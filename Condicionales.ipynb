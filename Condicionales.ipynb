{
 "cells": [
  {
   "cell_type": "markdown",
   "id": "f03032b9",
   "metadata": {},
   "source": [
    "# Estructuras condicionales en programación."
   ]
  },
  {
   "cell_type": "markdown",
   "id": "25df4516",
   "metadata": {},
   "source": [
    "## 1. ¿Que son los condicionales en la programación?"
   ]
  },
  {
   "cell_type": "markdown",
   "id": "6facc396",
   "metadata": {},
   "source": [
    "Los condicionales dentro de la programación son un tipo de estructura de control. \n",
    "\n",
    "Permiten darle a tu programa la capacidad y flexibilidad de ejecutar uno o más bloques de código en función de alguna condición que le especifiques.\n",
    "\n",
    "Esto es especialmente útil si necesitas que tu programa se comporte de formas muy distintas dada alguna condición que tu lógica necesite, o si necesitas cambiar únicamente algunos puntos importantes dentro de la ejecución de este.\n",
    "\n",
    "La lógica que tienen los condicionales de manera informal es: \"Oye, quiero que evalúes esto, si pasa una cosa, haz esto, si no, entonces has esto otro\"\n",
    "\n",
    "> *Ejemplo: \"Observo si esta lloviendo afuera\" (Condición) <br> - \"Si esta lloviendo, entonces llevaré un paraguas al salir\" (Acción en caso de que la condicion sea verdad) <br> - \"Si no, entonces llevaré gafas de sol\" (Acción en caso de que la condicion es falsa)*\n",
    "\n",
    "Esa es la lógica que siguen las condicionales simples, y se aplican a cualquier lenguaje de programación.\n",
    "\n",
    "\n"
   ]
  },
  {
   "cell_type": "markdown",
   "id": "d646de5e",
   "metadata": {},
   "source": [
    "## 2. ¿Cuál es la estructura de los condicionales?"
   ]
  },
  {
   "cell_type": "markdown",
   "id": "96d62e07",
   "metadata": {},
   "source": [
    "La estructura de un condicional simple es expresar la condicion a evaluar, seguida de un bloque de instrucciones que se desea ejecutar en caso de que se cumpla la condicion.\n",
    "\n",
    "La sintaxis exacta de las estructuras condicionales cambia entre lenguajes de programación, pero lo que la mayoría tiene en común es que las condiciones generalmente estan expresadas en terminos booleanos.\n",
    "\n",
    "##### ¿Qué son los booleanos? \n",
    "\n",
    "Los booleanos son un tipo de dato en programación que solamente puede tomar los valores de verdadero (true) o falso (false).\n",
    "\n",
    "De forma simple, **los condicionales actúan como si le hicieras una pregunta al programa**, y dicha pregunta **SÓLO** puede tener una respuesta: **Sí o No**, y dependiendo de dicha respuesta el programa hace una cosa u otra.\n",
    "\n",
    "En los **condicionales mas simples**, el programa **únicamente** ejecuta las instrucciones dentro del condicional cuando la respuesta a la pregunta es un sí (es decir cuando tu condicion se evalua como verdadera).\n",
    "\n",
    "En caso contrario simplemente ignora las instrucciones dentro del condicional y sigue con el programa."
   ]
  },
  {
   "cell_type": "markdown",
   "id": "dfba0644",
   "metadata": {},
   "source": [
    "## 3. ¿Cómo se declaran las condiciones?"
   ]
  },
  {
   "cell_type": "markdown",
   "id": "507b50d6",
   "metadata": {},
   "source": [
    "Las condiciones se declarar con el uso de operadores de comparación y operadores de igualdad: \n",
    "\n",
    "**`<`** : Menor qué...\n",
    "\n",
    "**`>`** : Mayor qué...\n",
    "\n",
    "**`==`** : Igual a...\n",
    "\n",
    "**`!=`** : Distinto de...\n",
    "\n",
    "**`>=`** : Mayor o igual que ...\n",
    "\n",
    "**`<=`** : Menor o igual que ...\n",
    "\n",
    "##### Para condiciones compuestas se utilizan operadores lógicos (Que vienen de lógica matemática o lógica proposicional):\n",
    "\n",
    "**`&&`**: Operador AND (Requiere que las 2 o más condiciones que usen dicho operador sea **true** para que toda la condición sea verdadera)\n",
    "\n",
    "**`||`**: Operador OR (La condición se evalúa como verdadera siempre y cuando 1 de las 2 o más condiciones sea verdadera)\n",
    "\n",
    "**`!`**: Operador NOT (Invierte el valor de la condicion booleana. Si una condicion es true la convierte en false y viceversa)\n",
    "\n"
   ]
  },
  {
   "cell_type": "markdown",
   "id": "06d3e8a0",
   "metadata": {},
   "source": [
    "# Ejemplos en código\n",
    "\n",
    "## 1. Condicionales simples.\n",
    "\n",
    "Vamos a ver el comportamiento y la forma en que se usan los condicionales simples (De una sola operación lógica).\n",
    "\n",
    "Comencemos con un programa sencillo:\n",
    ">*Un programa que evalúa si 10 es menor que 18, si esto es verdad, entonces imprime un mensaje.*"
   ]
  },
  {
   "cell_type": "markdown",
   "id": "7828f365",
   "metadata": {},
   "source": [
    "#### Python"
   ]
  },
  {
   "cell_type": "markdown",
   "id": "eba309e9",
   "metadata": {},
   "source": [
    "```python\n",
    "# Ejemplo de condicional simple\n",
    "\n",
    "if 10 < 18:\n",
    "    print(\"La expresión es verdadera, 10 es menor a 18\")\n"
   ]
  },
  {
   "cell_type": "markdown",
   "id": "3e668e95",
   "metadata": {},
   "source": [
    "#### VBA (Visual Basic for Applications)"
   ]
  },
  {
   "cell_type": "markdown",
   "id": "ccb8e915",
   "metadata": {},
   "source": [
    "```vb a\n",
    "\n",
    "'Ejemplo de condicional simple \n",
    "\n",
    "If 10 < 18 Then\n",
    "    MsgBox \"La expresion es verdadera, 10 es menor a 18\"\n",
    "End If\n"
   ]
  },
  {
   "cell_type": "markdown",
   "id": "ae13af38",
   "metadata": {},
   "source": [
    "### 1.2 Condicionales simples usando variables.\n",
    "\n",
    "Las condiciones también se pueden declarar usando variables, esto sirve para cuando no necesariamente un dato es constante o cuando el valor a comparar o evaluar no es conocido. (Valores en tiempo de ejecución del programa).\n",
    "\n",
    "Por ejemplo el siguiente programa:\n",
    "\n",
    "> *Un programa que pide la edad al usuario y si este es mayor de edad (ya sea igual o mayor a 18 años), <br>imprime un mensaje en pantalla.*\n"
   ]
  },
  {
   "cell_type": "markdown",
   "id": "34d3de7f",
   "metadata": {},
   "source": [
    "#### Python"
   ]
  },
  {
   "cell_type": "markdown",
   "id": "c67286b4",
   "metadata": {},
   "source": [
    "```python\n",
    "# Ejemplo con variables\n",
    "\n",
    "edad = int(input(\"Por favor ingrese su edad: \"))  # Declaramos la variable y guardamos el valor del usuario\n",
    "\n",
    "# Evaluamos la condicion \n",
    "if edad >= 18:\n",
    "    print(\"Vaya que sorpresa, ya cumpliste la mayoría de edad\")\n"
   ]
  },
  {
   "cell_type": "markdown",
   "id": "3e927c18",
   "metadata": {},
   "source": [
    "#### VBA (Visual Basic for Applications)"
   ]
  },
  {
   "cell_type": "markdown",
   "id": "8061aacb",
   "metadata": {},
   "source": [
    "```vb a\n",
    "\n",
    "' Ejemplo con variables\n",
    "\n",
    "Dim edad As Integer  'Primero declaramos la variable\n",
    "\n",
    "edad = Application.InputBox(prompt:=\"Por favor ingrese su edad: \", type:=1) 'Guardamos el valor del usuario\n",
    "\n",
    "'Evaluamos la condicion\n",
    "If edad >= 18 Then\n",
    "    MsgBox \"Vaya que sorpresa, ya cumpliste la mayoría de edad\"\n",
    "End If"
   ]
  },
  {
   "cell_type": "markdown",
   "id": "7bed7b08",
   "metadata": {},
   "source": [
    "## 2. Condicionales compuestas:\n",
    "\n",
    "Habrás observado que hasta ahora, hemos visto evaluaciones de una sola condición, vamos a intentar poner un poco mas de complejidad y evaluar condiciones con lógica booleana."
   ]
  },
  {
   "cell_type": "markdown",
   "id": "2dfd1df8",
   "metadata": {},
   "source": [
    "### 2.1. Ejemplo de condicional compuesta con AND (&&)"
   ]
  },
  {
   "cell_type": "markdown",
   "id": "c88846fe",
   "metadata": {},
   "source": [
    "El código escrito dentro de un condicional compuesto, sólo se ejecutará si los 2 o más condiciones se cumplen.\n",
    "\n",
    "Veamos el siguiente ejemplo, donde controlaremos el valor de los valores booleanos:"
   ]
  },
  {
   "cell_type": "markdown",
   "id": "7562b032",
   "metadata": {},
   "source": [
    "> *Un programa que tendra 2 variables booleanas en `True` <br> usándolas para crear una evaluacion compuesta*"
   ]
  },
  {
   "cell_type": "markdown",
   "id": "e750773d",
   "metadata": {},
   "source": [
    "#### Python"
   ]
  },
  {
   "cell_type": "markdown",
   "id": "3a0b011f",
   "metadata": {},
   "source": [
    "```python\n",
    "\n",
    "# Creamos 2 variables y las seteamos en true.\n",
    "foo = True\n",
    "bar = True\n",
    "\n",
    "# Hacemos la evaluacion compuesta usando and para el caso de Python\n",
    "if foo and bar:\n",
    "    print(\"Este mensaje si se imprimirá debido a que ambas variables son verdaderas\")"
   ]
  },
  {
   "cell_type": "markdown",
   "id": "e12ee11b",
   "metadata": {},
   "source": [
    "#### VBA (Visual Basic for Applications)"
   ]
  },
  {
   "cell_type": "markdown",
   "id": "de94d120",
   "metadata": {},
   "source": [
    "```vb a\n",
    "' Creamos 2 variables y las seteamos en true\n",
    "Dim foo As Boolean\n",
    "Dim bar As Boolean\n",
    "\n",
    "foo = True \n",
    "bar = True \n",
    "\n",
    "' Hacemos la evaluacion condicional compuesta\n",
    "If foo And bar Then\n",
    "    MsgBox \"Este mensaje si se imprimirá debido a que ambas variables son verdaderas\"\n",
    "End If\n"
   ]
  },
  {
   "cell_type": "markdown",
   "id": "f9641de2",
   "metadata": {},
   "source": [
    "El AND siempre exige que todas las condiciones puestas sean verdaderas.\n"
   ]
  },
  {
   "cell_type": "markdown",
   "id": "9a04e030",
   "metadata": {},
   "source": [
    "#### Python"
   ]
  },
  {
   "cell_type": "markdown",
   "id": "7dcc4a5a",
   "metadata": {},
   "source": [
    "```python\n",
    "foo = True\n",
    "bar = True\n",
    "baz = True\n",
    "quz = True\n",
    "\n",
    "if foo and bar and baz and quz:\n",
    "    print(\"Todas las variables evaluadas son verdaderas\")"
   ]
  },
  {
   "cell_type": "markdown",
   "id": "202eaf63",
   "metadata": {},
   "source": [
    "#### VBA (Visual Basic For Applications)"
   ]
  },
  {
   "cell_type": "markdown",
   "id": "0d8a49af",
   "metadata": {},
   "source": [
    "````vb a\n",
    "Dim foo As Boolean\n",
    "Dim bar As Boolean\n",
    "Dim baz As Boolean\n",
    "Dim quz As Boolean\n",
    "\n",
    "foo = True\n",
    "bar = True\n",
    "baz = True\n",
    "quz = True\n",
    "\n",
    "If foo And bar And bar And baz And quz Then\n",
    "    MsgBox \"Todas las variables evaluadas son verdaderas\"\n",
    "End If"
   ]
  },
  {
   "cell_type": "markdown",
   "id": "e6b32e11",
   "metadata": {},
   "source": [
    "### 2.2. Ejemplo de condicional compuesta con OR ( || )"
   ]
  },
  {
   "cell_type": "markdown",
   "id": "b12f42f3",
   "metadata": {},
   "source": [
    "Ahora pasemos a ver un ejemplo de las condicionales compuestas usando el operador lógico OR.\n",
    "\n",
    "Las condiciones compuestas que usan este operador únicamente necesitan que una de sus condiciones se cumpla para evaluarse como verdadera. Es decir, que si tenemos 3 condiciones evaluadas juntas, basta con que una de ellas sea True para que se ejecute el bloque de código dentro del condicional.\n",
    "\n",
    "Veamos el siguiente ejemplo:\n",
    "\n",
    "> *Un programa que usará una estructura condicional para evaluar la siguiente estructura compuesta: <br><br>  - Una variable booleana en `False`<br> - Una condicion falsa como: \"Uno es igual a 0\" (1 == 0) <br> - Una variable con valor `True`*"
   ]
  },
  {
   "cell_type": "markdown",
   "id": "39e93bf4",
   "metadata": {},
   "source": [
    "#### Python"
   ]
  },
  {
   "cell_type": "markdown",
   "id": "28e25e15",
   "metadata": {
    "vscode": {
     "languageId": "raw"
    }
   },
   "source": [
    "```python\n",
    "# Declaramos las variables booleanas\n",
    "foo = False\n",
    "bar = True\n",
    "\n",
    "# Usamos la estructura condicional para evaluar de forma compuesta todas las condiciones con OR\n",
    "if foo or 1==0 or bar:\n",
    "    print(\"Como el valor booleano de bar es True y usamos el operador OR, este mensaje se imprime\")"
   ]
  },
  {
   "cell_type": "markdown",
   "id": "6d574655",
   "metadata": {},
   "source": [
    "#### VBA (Visual Basic For Applications)"
   ]
  },
  {
   "cell_type": "markdown",
   "id": "a1b44bfc",
   "metadata": {},
   "source": [
    "``` vb a\n",
    "' Declaracion de variables booleanas\n",
    "Dim foo As Boolean\n",
    "Dim bar As Boolean\n",
    "\n",
    "foo = False\n",
    "bar = True\n",
    "\n",
    "If foo Or 1=0 Or bar Then\n",
    "    MsgBox \"Como el valor booleano de bar es True y usamos el operador OR, este mensaje se imprime\"\n",
    "End If"
   ]
  },
  {
   "cell_type": "markdown",
   "id": "7ac92dfc",
   "metadata": {},
   "source": [
    "### 2.3. Ejemplo de condicional compuesta con NOT (!)"
   ]
  },
  {
   "cell_type": "markdown",
   "id": "a5a0d399",
   "metadata": {},
   "source": [
    "Ahora abordaremos el uso del operador lógico NOT (!). Su uso lógico es la negación, de forma simplificada \"niega\" una evalación booleana, es decir si el valor de una variable es verdadero, al aplicar la negación, se convierte en falso. Lo mismo sucede a la inversa, el operador lógico NOT permite obtener la evaluación inversa a la que originalmente tendría una condición.\n",
    "\n",
    "Veamoslo en código con el siguiente ejemplo:\n",
    "\n",
    ">*Un programa que evalúa una única variable booleana cuyo valor es `False`, debido a que el bloque de código dentro de una estructura condicional simple sólo se ejecuta si la condición es `True`vamos a ayudarnos del operador lógico NOT para lograr ejecutarlo.*\n",
    "\n"
   ]
  },
  {
   "cell_type": "markdown",
   "id": "bbd1e925",
   "metadata": {},
   "source": [
    "#### Python"
   ]
  },
  {
   "cell_type": "markdown",
   "id": "666ed6b8",
   "metadata": {},
   "source": [
    "```python\n",
    "# Declaramos una única variable booleana\n",
    "foo = False\n",
    "\n",
    "# Al evaluar la condición usamos el NOT para evaluarlo como True\n",
    "if not foo:\n",
    "    print(\"Este mensaje puede imprimirse gracias a la negación del NOT\")"
   ]
  },
  {
   "cell_type": "markdown",
   "id": "bf270042",
   "metadata": {},
   "source": [
    "#### VBA (Visual Basic For Applications)"
   ]
  },
  {
   "cell_type": "markdown",
   "id": "68e75f56",
   "metadata": {},
   "source": [
    "```vb a\n",
    "'Declaramos una única variable booleana\n",
    "Dim foo As Boolean\n",
    "\n",
    "foo = False\n",
    "\n",
    "'Al evaluar la condición usamos el NOT para evaluarlo como True\n",
    "If Not foo Then\n",
    "    MsgBox \"Este mensaje puede imprimirse gracias a la negación del NOT\"\n",
    "End If"
   ]
  },
  {
   "cell_type": "markdown",
   "id": "6ba6d853",
   "metadata": {},
   "source": [
    "## 3. \"Else\" la ruta alternativa de los condicionales:"
   ]
  },
  {
   "cell_type": "markdown",
   "id": "e59ea2d2",
   "metadata": {},
   "source": [
    "Hasta ahora solamente hemos estado estudiando la estructura más simple de los condicionales, profundizado en la forma de declarar las condiciones, mostrando el funcionamiento de los operadores de comparación y los comparadores lógicos, de forma que podemos crear condiciones tan complejas como queramos.\n",
    "\n",
    "Sin embargo, si eres observador te habras dado cuenta que en todos los ejemplos, **solo hemos puesto bloques de código que se ejecutan cuando la condición se cumple** (cuando la condicion se evalúa en `True`).\n",
    "\n",
    ">**Pero en la realidad muchas veces no simplemente hacemos algo cuando una condición se cumple.** <br> La mayoría de veces **elegimos entre 2 caminos.**\n",
    "\n",
    "Es decir que si nos planteamos una pregunta de **\"sí\"** o **\"no\"**: \n",
    "* Tomamos acción cuando la respuesta es **\"Sí\"**. \n",
    "* Y generalmente hacemos **otra acción diferente** cuando la respuesta es **\"No\"**.\n",
    "\n",
    "En las estructuras condicionales también **es posible declarar ese camino alternativo para el No**, y eso se logra gracias a la sentencia llamada **else**."
   ]
  },
  {
   "cell_type": "markdown",
   "id": "79799be7",
   "metadata": {},
   "source": [
    "### 3.1. El clásico ejemplo de las edades.\n",
    "\n",
    "Vamos a retomar el ejercicio anterior de las edades, vamos a agregar su respectiva sentencia else para ver como funciona.\n",
    "\n",
    "Recordemos que el programa original pedía lo siguiente: \n",
    "\n",
    "> *Un programa que pide la edad al usuario y si este es mayor de edad (ya sea igual o mayor a 18 años), <br>imprime un mensaje en pantalla.*\n",
    "\n",
    "Ahora vamos a agregar un poco más de requerimientos, para justificar el uso del else:\n",
    "\n",
    "> *Un programa que pide la edad al usuario y si este es mayor de edad (ya sea igual o mayor a 18 años), imprime un mensaje en pantalla.<br><br> En caso contrario, infórmale que todavía esta pequeño y debería plantearse seriamente disfrutar lo que le queda de tiempo siendo menor*"
   ]
  },
  {
   "cell_type": "markdown",
   "id": "df8a1ff9",
   "metadata": {},
   "source": [
    "#### Python"
   ]
  },
  {
   "cell_type": "markdown",
   "id": "a8f3af8c",
   "metadata": {},
   "source": [
    "```python\n",
    "# Primero pedimos al usuario que ingrese su edad.\n",
    "edad = int(input(\"Por favor ingrese su edad: \"))\n",
    "\n",
    "# Luego evaluamos la edad para comprobar si se ha alcanzado la mayoría de edad\n",
    "if edad >= 18:\n",
    "    print(\"Vaya que sopresa, ya cumpliste la mayoría de edad\")\n",
    "else:\n",
    "    print(\"Estas chiquito, disfruta ahora que todavía tienes tiempo\")"
   ]
  },
  {
   "cell_type": "markdown",
   "id": "3a60bbed",
   "metadata": {},
   "source": [
    "#### VBA (Visual Basic For Applications)"
   ]
  },
  {
   "cell_type": "markdown",
   "id": "24046b62",
   "metadata": {},
   "source": [
    "```vb a\n",
    "Dim edad as Integer\n",
    "\n",
    "edad = Application.InputBox(prompt:=\"Por favor ingrese su edad: \", type:=1)\n",
    "\n",
    "If edad >= 18 Then\n",
    "    MsgBox \"Vaya que sorpresa, ya cumpliste la mayoría de edad\"\n",
    "Else\n",
    "    MsgBox \"Estas chiquito, disfruta ahora que todavía tienes tiempo\"\n",
    "End If\n"
   ]
  },
  {
   "cell_type": "markdown",
   "id": "f6ab1c1b",
   "metadata": {},
   "source": [
    "### 3.2. El ejemplo de los dados."
   ]
  },
  {
   "cell_type": "markdown",
   "id": "acc480f7",
   "metadata": {},
   "source": [
    "Una de las cosas importantes que debes recordar sobre la sentencia `else` es que actúa como un captador universal para todos los casos en los que la condición del `if` es falsa. Siempre se ejecutará si la evaluación principal no se cumple.\n",
    "\n",
    "Hasta ahora los ejemplos mostrados siempre eran evaluaciones booleanas con únicamente 2 posibles resultado:\n",
    "\n",
    "- Ser mayor de edad o no.\n",
    "- Si un número es mayor a otro o no.\n",
    "- Variables booleanas con sólo 2 posibles valores: `True` o `False`\n",
    "\n",
    "Pero en muchas ocasiones las condiciones que colocamos tienen más de 2 posibles resultados. Aquí es donde se ve más claramente el funcionamiento del `else`. \n",
    "\n",
    "Ten muy presente que el código dentro del else siempre se ejecutará en tanto no se cumpla la condición evaluada. Da igual el motivo específico por el que se halla llegado a esa evaluación.\n",
    "\n",
    "Veamos un ejemplo con el siguiente programa:\n",
    "\n",
    "> *Crea un programa que lance un dado cada vez que se ejecuta, en caso de que el dado caiga en un número par entonces imprime en pantalla que has ganado un premio, en cualquier otro caso, entonces mencionale al usuario que no hubo suerte esta vez*"
   ]
  },
  {
   "cell_type": "markdown",
   "id": "711cf06f",
   "metadata": {},
   "source": [
    "#### Python"
   ]
  },
  {
   "cell_type": "markdown",
   "id": "cdce7eba",
   "metadata": {},
   "source": [
    "```python\n",
    "import random\n",
    "\n",
    "# Creamos una variable para el dado y le damos aleatoriamente un valor.\n",
    "dado = random.randint(1, 6)\n",
    "\n",
    "# Hacemos la evaluación\n",
    "if dado == 2 or dado == 4 or dado == 6:\n",
    "    print(\"Tu número es par, felicidades, has ganado un premio\")\n",
    "else\n",
    "    print(\"Lo siento, suerte para la próxima\")\n",
    "\n",
    "\n"
   ]
  },
  {
   "cell_type": "markdown",
   "id": "e03e859e",
   "metadata": {},
   "source": [
    "#### VBA (Visual Basic For Applications)"
   ]
  },
  {
   "cell_type": "markdown",
   "id": "b96ddfcd",
   "metadata": {},
   "source": [
    "```vb a\n",
    "' Creamos una variable para el dado y le damos aleatoriamente un valor\n",
    "Dim dado As Integer\n",
    "\n",
    "dado = Int((6 * Rnd) + 1)\n",
    "\n",
    "' Hacemos la evaluación\n",
    "If dado = 2 Or dado = 4 Or dado = 6 Then\n",
    "    MsgBox \"Tu número es par, felicidades, has ganado un premio\"\n",
    "Else \n",
    "    MsgBox \"Lo siento, suerte para la próxima\"\n",
    "End If"
   ]
  },
  {
   "cell_type": "markdown",
   "id": "1fe05baa",
   "metadata": {},
   "source": [
    "## 4. \"Else if\" la evaluación multicaso de los condicionales."
   ]
  },
  {
   "cell_type": "markdown",
   "id": "cda86b6a",
   "metadata": {},
   "source": [
    "Ya casi terminas de aprender todos los conceptos que rodean a las estructuras de control adicionales, hasta el momento has aprendido a crear condiciones usando operadores lógicos y de comparación. Has aprendido el uso y la sintaxis del `if`, y has visto el uso de sus rutas alternativas con el `else`.\n",
    "\n",
    "Vamos a continuar con el último caso **¿Te has preguntado que pasa cuando tenemos más de 2 casos o caminos posibles?**\n",
    "\n",
    "Hasta ahora todas las condiciones siempre caían en el resultado ya sea `True` o `False` de **una única condición**, es decir no podíamos crear más de 2 caminos distintos a ejecutar. \n",
    "\n",
    "**Piensa en el siguiente ejemplo:** \n",
    "> *Imagina que vas a una tienda de ropa, en donde tienen una serie de descuentos de acuerdo al precio final de la prenda: a mayor precio, mayor descuento*\n",
    "\n",
    "Si existiecen 4 posibles descuentos, te darás cuenta para representarlo en código **no** seria suficiente con la sentencia `if-else` vista hasta ahora, ya que solo podríamos evaluar 1 único rango de precio. Los otros 3 siempre caerán en el bloque del `else`, a pesar de que tambien tendría que evaluarse su respectivo rango de precio para aplicar su descuento correspondiente.\n",
    "\n",
    "Una de las posibles soluciones que podrías imaginar es simplemente ir anidando condicionales `if` dentro de cada `else`, de forma que cuando cada evaluación del precio no sea `True` se haga nuevamente otra evaluación condicional.\n",
    "\n",
    "**Sin embargo esto genera código muy dificil de leer, dificil de mantener y muy poco práctico.**\n",
    "\n",
    "La solución es mas simple de lo que piensas, usar una única estructura condicional y utilizar un tipo de `else` especial que no se ejecuta simplemente cuando el condicional principal es `False`, si no que además tiene que evaluar como `True` su propia condición.\n",
    "\n",
    "Este `else` especial se llama **`Else-if`** (`elif` en **`Python`** o `else if` en otros lenguajes).\n",
    "\n",
    "Pasemos a mostrar el ejemplo anterior en código:\n",
    "\n",
    "> *Crea un programa que le pida al usuario un precio de la prenda de ropa, e imprime en pantalla el precio final despues de aplicar su descuento correspondiente, los cupones de descuento disponibles son: <br><br> * Si la prenda cuesta **$200 o menos**, se le aplicara un descuento del **12%** <br><br> * Si la prenda cuesta **más de $200 pero menos de $500**, su descuento será del **18%** <br><br> * Si la prenda cuesta **mas de $500 pero menos de $800**, su descuento será del **25%** <br><br> * Cualquier otro precio **superior a $800 y menor a $2000** tendrá un descuento del **30%** <br><br> * Prendas con un costo mayor a **$2000** no tienen descuento alguno.*"
   ]
  },
  {
   "cell_type": "markdown",
   "id": "517f5983",
   "metadata": {},
   "source": [
    "#### Python"
   ]
  },
  {
   "cell_type": "markdown",
   "id": "2e39911a",
   "metadata": {},
   "source": [
    "```python\n",
    "# Pedimos al usuario que nos de un precio de prenda\n",
    "precioPrenda = float(input(\"Por favor ingrese el precio de la prenda: \"))\n",
    "\n",
    "# Evaluamos el precio y le indicamos el precio final al usuario\n",
    "if 0 < precioPrenda <= 200:\n",
    "    precioFinal = precioPrenda * (1 - 0.12)\n",
    "    print(f\"Su total por la prenda es de ${precioFinal:.2f} tras un descuento del 12%\")\n",
    "\n",
    "elif 200 < precioPrenda <= 500: # Evaluamos el segundo caso\n",
    "    precioFinal = precioPrenda * (1 - 0.18)\n",
    "    print(f\"Su total por la prenda es de ${precioFinal:.2f} tras un descuento del 18%\")\n",
    "\n",
    "elif 500 < precioPrenda <= 800: # Tercer caso\n",
    "    precioFinal = precioPrenda * (1 - 0.25)\n",
    "    print(f\"Su total por la prenda es de ${precioFinal:.2f} tras un descuento del 25%\")\n",
    "\n",
    "elif 800 < precioPrenda <= 2000: # Cuarto caso\n",
    "    precioFinal = precioPrenda * (1 - 0.30)\n",
    "    print(f\"Su total por la prenda es de ${precioFinal:.2f} tras un descuento del 30%\")\n",
    "\n",
    "else: # Cualquier otro caso fuera de los parámetros evaluados \n",
    "    print(f\"Su total por la prenda es de ${precioPrenda:.2f} debido a que no le corresponde descuento\")\n",
    "\n"
   ]
  },
  {
   "cell_type": "markdown",
   "id": "4519c14e",
   "metadata": {},
   "source": [
    "#### VBA (Visual Basic For Applications)"
   ]
  },
  {
   "cell_type": "markdown",
   "id": "0e36b897",
   "metadata": {},
   "source": [
    "```vb a\n",
    "' Creamos la variable y pedimos el precio al usuario\n",
    "Dim precioPrenda As Double\n",
    "Dim precioFinal As Double\n",
    "\n",
    "precioPrenda = Application.InputBox(prompt:=\"Por favor ingrese el precio de la prenda: \", type:=1)\n",
    "\n",
    "' Hacemos la evaluación\n",
    "If precioPrenda > 0 And precioPrenda <= 200 Then\n",
    "    precioFinal = precioPrenda * (1 - 0.12)\n",
    "    MsgBox \"Su total por la prenda es de $\" & Format(precioFinal, \"0.00\") & \" tras un descuento del 12%\"\n",
    "\n",
    "ElseIf precioPrenda > 200 And precioPrenda <= 500 Then\n",
    "    precioFinal = precioPrenda * (1 - 0.18)\n",
    "    MsgBox \"Su total por la prenda es de $\" & Format(precioFinal, \"0.00\") & \" tras un descuento del 18%\"\n",
    "\n",
    "ElseIf precioPrenda > 500 And precioPrenda <= 800 Then\n",
    "    precioFinal = precioPrenda * (1 - 0.25)\n",
    "    MsgBox \"Su total por la prenda es de $\" & Format(precioFinal, \"0.00\") & \" tras un descuento del 25%\"\n",
    "\n",
    "ElseIf precioPrenda > 800 And precioPrenda <= 2000 Then \n",
    "    precioFinal = precioPrenda * (1 - 0.3)\n",
    "    MsgBox \"Su total por la prenda es de $\" & Format(precioFinal, \"0.00\") & \" tras un descuento del 30%\"\n",
    "\n",
    "Else\n",
    "    MsgBox \"Su total por la prenda es de $\" & precioPrenda & \" debido a que no le corresponde descuento\"\n",
    "End If\n",
    "\n",
    "\n"
   ]
  },
  {
   "cell_type": "markdown",
   "id": "808409da",
   "metadata": {},
   "source": [
    "## Finalización"
   ]
  },
  {
   "cell_type": "markdown",
   "id": "c8479d74",
   "metadata": {},
   "source": [
    "Con esto hemos terminado la introducción básica a las estructuras condicionales, junto con su sintaxis y ejemplos tanto en Python como en VBA, espero que esta guía te haya servido.\n",
    "\n",
    "Ahora es tu turno de practicar a hacer tus propias estructuras condicionales y adaptarlos a tus casos de uso puntuales.\n",
    "\n",
    "En programación afortuanada y lamentablemente la mejor forma de aprender siempre es programando, yendo paso a paso.\n",
    "\n",
    "Mucha suerte!!"
   ]
  }
 ],
 "metadata": {
  "kernelspec": {
   "display_name": "Python 3",
   "language": "python",
   "name": "python3"
  },
  "language_info": {
   "name": "python",
   "version": "3.13.5"
  }
 },
 "nbformat": 4,
 "nbformat_minor": 5
}
